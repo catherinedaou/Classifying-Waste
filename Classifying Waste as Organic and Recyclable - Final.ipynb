{
 "cells": [
  {
   "cell_type": "markdown",
   "metadata": {},
   "source": [
    "# Classifying Organic and Recyclable Wastes\n",
    "\n",
    "In this notebook, we classify images as organic wastes or recyclable wastes. \n",
    "The training dataset used is made up of 22500 images with 12565 images of organic materials and 9999 images of recyclable materials. The testing dataset is made up of 1401 images of organic wastes and 1112 images of recyclable wastes. \n",
    "\n",
    "The dataset was originally prepared by Sashaank Sekar and it was published on Kaggle.com. The dataset can be directly downloaded from https://www.kaggle.com/techsash/waste-classification-data. \n",
    "\n"
   ]
  },
  {
   "cell_type": "markdown",
   "metadata": {},
   "source": [
    "# Importing Libraries\n",
    "\n",
    "We start the code by importing some libraries that we will be using in the code "
   ]
  },
  {
   "cell_type": "code",
   "execution_count": 1,
   "metadata": {},
   "outputs": [],
   "source": [
    "#Matplotlib is used to create graphs and visualize our images \n",
    "import matplotlib.pyplot as plt\n",
    "\n",
    "#Numpy is is used to deal with our data that takes the form of arrays \n",
    "import numpy as np\n",
    "\n",
    "#OS stands for operating system and it is used to read the image files that we need to use in our code\n",
    "import os\n",
    "\n",
    "#Pprint is pretty print and it is used to print text in an indented and farmatted way\n",
    "import pprint\n",
    "pp = pprint.PrettyPrinter(indent=4)"
   ]
  },
  {
   "cell_type": "code",
   "execution_count": 2,
   "metadata": {},
   "outputs": [],
   "source": [
    "#Joblib is used to save the processed data that our code generates\n",
    "#This allows us to run the code much faster when we restart our code\n",
    "import joblib\n",
    "\n",
    "#imread is used to read images and resize is used to resize images \n",
    "from skimage.io import imread\n",
    "from skimage.transform import resize"
   ]
  },
  {
   "cell_type": "markdown",
   "metadata": {},
   "source": [
    "# Importing the Dataset into Python \n",
    "\n",
    "The dataset, at the moment, is in folders as png or jpg files. Now, we need to import this dataset into our code so we can use it, transform it, and manipulate it. "
   ]
  },
  {
   "cell_type": "markdown",
   "metadata": {},
   "source": [
    "First, we will import the training dataset that we will use to build and train our model.  "
   ]
  },
  {
   "cell_type": "code",
   "execution_count": 3,
   "metadata": {},
   "outputs": [
    {
     "name": "stdout",
     "output_type": "stream",
     "text": [
      "O\n",
      "R\n"
     ]
    }
   ],
   "source": [
    "#Create a dictionary that will save all the information needed from the images \n",
    "data_train = dict()\n",
    "\n",
    "data_train['label'] = []\n",
    "data_train['filename'] = []\n",
    "data_train['data'] = []   \n",
    "\n",
    "#pklname is the name of the python file that will save our data. \n",
    "#We will use it if we ever need to restart the code. \n",
    "pklname = \"waste_images_train\"\n",
    "\n",
    "#Choose the width and height of the images. \n",
    "width = 80\n",
    "height = 80 \n",
    "\n",
    "#Create the actual pkl file that will save the data. \n",
    "pklname = f\"{pklname}_{width}x{height}px.pkl\"\n",
    "\n",
    "#src is the name of the folder that contains our data \n",
    "src = \"TRAIN\"\n",
    "\n",
    "#Include is a list of the names of the folders that we need inside the src folder\n",
    "include = {'O', 'R'}\n",
    "\n",
    "#Read all the images in the src folder, resize them, and write them to the pkl file\n",
    "for subdir in os.listdir(src):\n",
    "    #If the folder is in \"include\", we will read what is in it. \n",
    "    if subdir in include:\n",
    "        print(subdir)\n",
    "        current_path = os.path.join(src, subdir)\n",
    " \n",
    "        for file in os.listdir(current_path):\n",
    "            #If the file is a jpg or png file, we will read it. \n",
    "            if file[-3:] in {'jpg', 'png'}:\n",
    "                #Read the image file\n",
    "                im = imread(os.path.join(current_path, file))\n",
    "                #Resize the image\n",
    "                im = resize(im, (width, height)) #[:,:,::-1]\n",
    "                #Add the label of the image (in this case, if the image is O or R)\n",
    "                data_train['label'].append(subdir)\n",
    "                #Add the filename to know which image this is\n",
    "                data_train['filename'].append(file)\n",
    "                #Add the data of the image (i.e. the pixels of the image)\n",
    "                data_train['data'].append(im)\n",
    " \n",
    "        #save all the data in a pkl file \n",
    "        joblib.dump(data_train, pklname)"
   ]
  },
  {
   "cell_type": "markdown",
   "metadata": {},
   "source": [
    "Then, we will import our test dataset. This dataset will be used to check the accuracy and performance of our model. The code below is very similar to the code above. The only changes are related to reading the TEST folder instead of the TRAIN folder. "
   ]
  },
  {
   "cell_type": "code",
   "execution_count": 4,
   "metadata": {},
   "outputs": [
    {
     "name": "stdout",
     "output_type": "stream",
     "text": [
      "O\n",
      "R\n"
     ]
    }
   ],
   "source": [
    "data_test = dict()\n",
    "\n",
    "data_test['label'] = []\n",
    "data_test['filename'] = []\n",
    "data_test['data'] = []   \n",
    "     \n",
    "pklname = \"waste_images_test\"\n",
    "width = 80\n",
    "height = 80 \n",
    "\n",
    "pklname = f\"{pklname}_{width}x{height}px.pkl\"\n",
    "src = \"TEST\"\n",
    "include = {'O', 'R'}\n",
    "\n",
    "# read all images in PATH, resize and write to DESTINATION_PATH\n",
    "for subdir in os.listdir(src):\n",
    "    if subdir in include:\n",
    "        print(subdir)\n",
    "        current_path = os.path.join(src, subdir)\n",
    " \n",
    "        for file in os.listdir(current_path):\n",
    "            if file[-3:] in {'jpg', 'png'}:\n",
    "                im = imread(os.path.join(current_path, file))\n",
    "                im = resize(im, (width, height)) #[:,:,::-1]\n",
    "                data_test['label'].append(subdir)\n",
    "                data_test['filename'].append(file)\n",
    "                data_test['data'].append(im)\n",
    " \n",
    "        joblib.dump(data_test, pklname)"
   ]
  },
  {
   "cell_type": "markdown",
   "metadata": {},
   "source": [
    "# Checking the Inside of the Dataset\n",
    "\n",
    "So, our data has been imported into the code. Now, we want to see what exactly is in this data. "
   ]
  },
  {
   "cell_type": "code",
   "execution_count": 5,
   "metadata": {},
   "outputs": [
    {
     "name": "stdout",
     "output_type": "stream",
     "text": [
      "number of samples:  22564\n",
      "keys:  ['label', 'filename', 'data']\n",
      "image shape:  (80, 80, 3)\n",
      "labels: ['O' 'R']\n"
     ]
    },
    {
     "data": {
      "text/plain": [
       "Counter({'O': 12565, 'R': 9999})"
      ]
     },
     "execution_count": 5,
     "metadata": {},
     "output_type": "execute_result"
    }
   ],
   "source": [
    "from collections import Counter\n",
    "width = 80\n",
    "\n",
    "#Load the data from the pkl file. \n",
    "#Note: When restarting the code later on, there is no need to run the previous two blocks of code. \n",
    "#You can just load the data from the pkl files. \n",
    "data_train = joblib.load(f'{\"waste_images_train\"}_{width}x{width}px.pkl')\n",
    "\n",
    "#Print the number of images we have. In this case, we should have 22 564 images \n",
    "print('number of samples: ', len(data_train['data']))\n",
    "\n",
    "#Print the information available in the files. In this case, we have the label, filename, and data. \n",
    "#Other pkl files can have descriptions, source of data etc. \n",
    "print('keys: ', list(data_train.keys()))\n",
    "\n",
    "#Print the shape of the image. Our image will 80 by 80 pixels by 3 colors (for R,G,B values)\n",
    "print('image shape: ', data_train['data'][0].shape)\n",
    "\n",
    "#Print the labels that are available. In our case, the labels are O and R (for organic and recyclable)\n",
    "#Other data can have more than two labels for example types of flowers, types of dogs, faces etc. \n",
    "print('labels:', np.unique(data_train['label']))\n",
    "\n",
    "#Count how many O and R images we have. \n",
    "Counter(data_train['label'])"
   ]
  },
  {
   "cell_type": "code",
   "execution_count": 6,
   "metadata": {},
   "outputs": [
    {
     "name": "stdout",
     "output_type": "stream",
     "text": [
      "number of samples:  2513\n",
      "keys:  ['label', 'filename', 'data']\n",
      "image shape:  (80, 80, 3)\n",
      "labels: ['O' 'R']\n"
     ]
    },
    {
     "data": {
      "text/plain": [
       "Counter({'O': 1401, 'R': 1112})"
      ]
     },
     "execution_count": 6,
     "metadata": {},
     "output_type": "execute_result"
    }
   ],
   "source": [
    "#The code below is identical to the one above, except that we are using the testing data instead of the training data \n",
    "\n",
    "data_test = joblib.load(f'{\"waste_images_test\"}_{width}x{width}px.pkl')\n",
    " \n",
    "print('number of samples: ', len(data_test['data']))\n",
    "print('keys: ', list(data_test.keys()))\n",
    "print('image shape: ', data_test['data'][0].shape)\n",
    "print('labels:', np.unique(data_test['label']))\n",
    " \n",
    "Counter(data_test['label'])"
   ]
  },
  {
   "cell_type": "markdown",
   "metadata": {},
   "source": [
    "# Visualizing the Data\n",
    "\n",
    "At this stage, we have resized the images and figured out how many images we have. Now, we can use the code below to show sample images and see how they look like. "
   ]
  },
  {
   "cell_type": "code",
   "execution_count": 7,
   "metadata": {},
   "outputs": [
    {
     "data": {
      "image/png": "[encoded data removed]",
      "text/plain": [
       "<Figure size 1080x288 with 2 Axes>"
      ]
     },
     "metadata": {
      "needs_background": "light"
     },
     "output_type": "display_data"
    }
   ],
   "source": [
    "# use np.unique to get all unique values in the list of labels. In our case, we have two labels, O and R. \n",
    "labels = np.unique(data_train['label'])\n",
    " \n",
    "# set up the matplotlib figure and axes, based on the number of labels\n",
    "fig, axes = plt.subplots(1, len(labels))\n",
    "fig.set_size_inches(15,4)\n",
    "fig.tight_layout()\n",
    " \n",
    "# make a plot for every label type. The index method returns the \n",
    "# index of the first item corresponding to its search string, label in this case\n",
    "for ax, label in zip(axes, labels):\n",
    "    idx = data_train['label'].index(label)\n",
    "     \n",
    "    ax.imshow(data_train['data'][idx])\n",
    "    ax.axis('off')\n",
    "    ax.set_title(label)"
   ]
  },
  {
   "cell_type": "markdown",
   "metadata": {},
   "source": [
    "# Dividing the Data into X and Y \n",
    "\n",
    "Now that our data is loaded and looks like it is working, we need to decide what are the Xs and what are the Ys. \n",
    "\n",
    "Remember:\n",
    "* The Xs are the features that we use to make a prediction. In this case, the actual images. \n",
    "* The Ys are what we are trying to predict. In this case, whether an image is O (organic) or R (recyclable)\n",
    "    \n",
    "Note: For now, we will only be using the training dataset. The testing dataset will only be used at the very end. "
   ]
  },
  {
   "cell_type": "code",
   "execution_count": 8,
   "metadata": {},
   "outputs": [
    {
     "name": "stdout",
     "output_type": "stream",
     "text": [
      "Number of Samples in X:  22564\n",
      "Number of Samples in Y:  22564\n"
     ]
    }
   ],
   "source": [
    "X = data_train['data']\n",
    "print(\"Number of Samples in X: \", len(X))\n",
    "y = data_train['label']\n",
    "print(\"Number of Samples in Y: \", len(y))"
   ]
  },
  {
   "attachments": {
    "image.png": {
     "image/png": "[encoded data removed]"
    }
   },
   "cell_type": "markdown",
   "metadata": {},
   "source": [
    "# Preprocessing the Data \n",
    "\n",
    "It would be great if we can just use the Xs (images) as they are and input them into a model. But, unfortunately, this is not possible. We need to \"preprocess\" the images to make the data easier for the model to read and analyze. \n",
    "\n",
    "There are many ways of preprocessing data. As a matter of fact, preprocessing data or feature engineering is a HUGE part of what AI engineers and researchers do. However, in this case, we will be using three preprocessing techniques:\n",
    "1. RGB2GrayTransformer: This technique turns the images into grayscale instead of RGB \n",
    "2. HogTransformer: HOG stands for Histogram of Oriented Gradients. HOGs are used for feature reduction, in other words: for lowering the complexity of the problem. By using the HOG Transform, the images will look like the image below: \n",
    "\n",
    "![image.png](attachment:image.png)\n",
    "\n",
    "3. StandardScaler: This scaler normalizes the data. "
   ]
  },
  {
   "cell_type": "code",
   "execution_count": 9,
   "metadata": {},
   "outputs": [],
   "source": [
    "from sklearn.base import BaseEstimator, TransformerMixin\n",
    "from skimage.feature import hog\n",
    "import skimage\n",
    "\n",
    "#The code below creates the RGB2GrayTransformer\n",
    "class RGB2GrayTransformer(BaseEstimator, TransformerMixin):\n",
    "    \"\"\"\n",
    "    Convert an array of RGB images to grayscale\n",
    "    \"\"\"\n",
    " \n",
    "    def __init__(self):\n",
    "        pass\n",
    " \n",
    "    def fit(self, X, y=None):\n",
    "        \"\"\"returns itself\"\"\"\n",
    "        return self\n",
    " \n",
    "    def transform(self, X, y=None):\n",
    "        \"\"\"perform the transformation and return an array\"\"\"\n",
    "        return np.array([skimage.color.rgb2gray(img) for img in X])\n",
    "     \n",
    "#The code below creates the HOGTransformer\n",
    "class HogTransformer(BaseEstimator, TransformerMixin):\n",
    "    \"\"\"\n",
    "    Expects an array of 2d arrays (1 channel images)\n",
    "    Calculates hog features for each img\n",
    "    \"\"\"\n",
    " \n",
    "    def __init__(self, y=None, orientations=9,\n",
    "                 pixels_per_cell=(8, 8),\n",
    "                 cells_per_block=(3, 3), block_norm='L2-Hys'):\n",
    "        self.y = y\n",
    "        self.orientations = orientations\n",
    "        self.pixels_per_cell = pixels_per_cell\n",
    "        self.cells_per_block = cells_per_block\n",
    "        self.block_norm = block_norm\n",
    " \n",
    "    def fit(self, X, y=None):\n",
    "        return self\n",
    " \n",
    "    def transform(self, X, y=None):\n",
    " \n",
    "        def local_hog(X):\n",
    "            return hog(X,\n",
    "                       orientations=self.orientations,\n",
    "                       pixels_per_cell=self.pixels_per_cell,\n",
    "                       cells_per_block=self.cells_per_block,\n",
    "                       block_norm=self.block_norm)\n",
    " \n",
    "        try: # parallel\n",
    "            return np.array([local_hog(img) for img in X])\n",
    "        except:\n",
    "            return np.array([local_hog(img) for img in X])"
   ]
  },
  {
   "cell_type": "code",
   "execution_count": 10,
   "metadata": {},
   "outputs": [],
   "source": [
    "from sklearn.preprocessing import StandardScaler, Normalizer\n",
    "\n",
    "#The code below creates an instance of every transformer. \n",
    "#These are the specific transformers we will be using on the images. \n",
    "\n",
    "grayify = RGB2GrayTransformer()\n",
    "hogify = HogTransformer(\n",
    "    pixels_per_cell=(14, 14), \n",
    "    cells_per_block=(2,2), \n",
    "    orientations=9, \n",
    "    block_norm='L2-Hys'\n",
    ")\n",
    "scalify = StandardScaler()"
   ]
  },
  {
   "cell_type": "code",
   "execution_count": 11,
   "metadata": {},
   "outputs": [
    {
     "name": "stderr",
     "output_type": "stream",
     "text": [
      "C:\\Users\\cathe\\AppData\\Local\\Continuum\\anaconda3\\lib\\site-packages\\ipykernel_launcher.py:20: FutureWarning: Non RGB image conversion is now deprecated. For RGBA images, please use rgb2gray(rgba2rgb(rgb)) instead. In version 0.19, a ValueError will be raised if input image last dimension length is not 3.\n",
      "C:\\Users\\cathe\\AppData\\Local\\Continuum\\anaconda3\\lib\\site-packages\\ipykernel_launcher.py:20: FutureWarning: The behavior of rgb2gray will change in scikit-image 0.19. Currently, rgb2gray allows 2D grayscale image to be passed as inputs and leaves them unmodified as outputs. Starting from version 0.19, 2D arrays will be treated as 1D images with 3 channels.\n"
     ]
    },
    {
     "name": "stdout",
     "output_type": "stream",
     "text": [
      "(22564, 576)\n"
     ]
    }
   ],
   "source": [
    "#We will use fit_transform and use every preprocessing technique one at a time. \n",
    "X_gray = grayify.fit_transform(X)\n",
    "X_hog = hogify.fit_transform(X_gray)\n",
    "X_prepared = scalify.fit_transform(X_hog)\n",
    " \n",
    "print(X_prepared.shape)"
   ]
  },
  {
   "cell_type": "markdown",
   "metadata": {},
   "source": [
    "# Splitting the Data into Training and Testing Datasets\n",
    "\n",
    "Now it is time to split our training dataset into training and testing dataset. \n",
    "\n",
    "Note: This step might be confusing because originally, we have a training dataset and a testing dataset, so why split the training dataset? Well, that's because we will be experimenting with different models: \n",
    "\n",
    "1. Portion of Training Data: This is the data we will be using to \"train\" and create a model. \n",
    "2. Testing Data extracted from Training Data: We will test our model on this dataset. So, every model we create from the above dataset will be tested on this dataset and the accuracy scores will be compared and the best model will be chosen. This dataset will be called the Validation Dataset. \n",
    "3. Testing dataset: The best model that worked on the dataset above will be used on this dataset so we can get the \"most accurate\" accuracy level. "
   ]
  },
  {
   "cell_type": "code",
   "execution_count": 12,
   "metadata": {},
   "outputs": [],
   "source": [
    "from sklearn.model_selection import train_test_split\n",
    " \n",
    "X_train, X_val, y_train, y_val = train_test_split(\n",
    "    X_prepared, \n",
    "    y, \n",
    "    test_size=0.2,           #The testing dataset is 20% of the training dataset\n",
    "    shuffle=True,            #The dataset is shuffled so you do not get a training dataset that is mostly O or mostly R \n",
    "    random_state=42,\n",
    ")"
   ]
  },
  {
   "cell_type": "markdown",
   "metadata": {},
   "source": [
    "The code below is not at all necessary. It is just there to show you how the training and validation datasets have been split and distributed. "
   ]
  },
  {
   "cell_type": "code",
   "execution_count": 13,
   "metadata": {},
   "outputs": [
    {
     "data": {
      "image/png": "[encoded data removed]",
      "text/plain": [
       "<Figure size 432x288 with 1 Axes>"
      ]
     },
     "metadata": {
      "needs_background": "light"
     },
     "output_type": "display_data"
    }
   ],
   "source": [
    "def plot_bar(y, loc='left', relative=True):\n",
    "    width = 0.35\n",
    "    if loc == 'left':\n",
    "        n = -0.5\n",
    "    elif loc == 'right':\n",
    "        n = 0.5\n",
    "     \n",
    "    # calculate counts per type and sort, to ensure their order\n",
    "    unique, counts = np.unique(y, return_counts=True)\n",
    "    sorted_index = np.argsort(unique)\n",
    "    unique = unique[sorted_index]\n",
    "     \n",
    "    if relative:\n",
    "        # plot as a percentage\n",
    "        counts = 100*counts[sorted_index]/len(y)\n",
    "        ylabel_text = '% count'\n",
    "    else:\n",
    "        # plot counts\n",
    "        counts = counts[sorted_index]\n",
    "        ylabel_text = 'count'\n",
    "         \n",
    "    xtemp = np.arange(len(unique))\n",
    "     \n",
    "    plt.bar(xtemp + n*width, counts, align='center', alpha=.7, width=width)\n",
    "    plt.xticks(xtemp, unique, rotation=45)\n",
    "    plt.xlabel('equipment type')\n",
    "    plt.ylabel(ylabel_text)\n",
    " \n",
    "plt.suptitle('relative amount of photos per type')\n",
    "plot_bar(y_train, loc='left')\n",
    "plot_bar(y_val, loc='right')\n",
    "plt.legend([\n",
    "    'train ({0} photos)'.format(len(y_train)), \n",
    "    'test ({0} photos)'.format(len(y_val))\n",
    "]);"
   ]
  },
  {
   "cell_type": "markdown",
   "metadata": {},
   "source": [
    "# Building the Simplest SVM Model Possible \n",
    "\n",
    "Alright! Our data is loaded, processed, and split! Now it is time to build a model. The first model we will build is an extremely simple Support Vector Machine model. We will be using the default parameters and changing nothing. "
   ]
  },
  {
   "cell_type": "code",
   "execution_count": 14,
   "metadata": {},
   "outputs": [
    {
     "name": "stdout",
     "output_type": "stream",
     "text": [
      "[LibSVM]"
     ]
    },
    {
     "data": {
      "text/plain": [
       "SVC(verbose=True)"
      ]
     },
     "execution_count": 14,
     "metadata": {},
     "output_type": "execute_result"
    }
   ],
   "source": [
    "from sklearn.svm import SVC\n",
    "\n",
    "model_svc = SVC(verbose = True)                         #Create a model\n",
    "model_svc.fit(X_train, y_train)                         #Train the model"
   ]
  },
  {
   "cell_type": "markdown",
   "metadata": {},
   "source": [
    "## Checking the Accuracy of the Model\n",
    "\n",
    "So, the model is now ready, it's time to check how accurate it is. "
   ]
  },
  {
   "cell_type": "markdown",
   "metadata": {},
   "source": [
    "### Accuracy on Training Dataset"
   ]
  },
  {
   "cell_type": "markdown",
   "metadata": {},
   "source": [
    "First, we will check the accuracy of the model on the training set. What that means is that we will make the model predict the class of the samples of the training set. \n",
    "Because the model has been trained on this dataset, we would expect a very high accuracy. "
   ]
  },
  {
   "cell_type": "code",
   "execution_count": 15,
   "metadata": {},
   "outputs": [],
   "source": [
    "y_pred_train = model_svc.predict(X_train)        #Predict values using the training dataset"
   ]
  },
  {
   "cell_type": "code",
   "execution_count": 16,
   "metadata": {},
   "outputs": [
    {
     "data": {
      "text/plain": [
       "0.89607223976511"
      ]
     },
     "execution_count": 16,
     "metadata": {},
     "output_type": "execute_result"
    }
   ],
   "source": [
    "from sklearn.metrics import accuracy_score\n",
    "\n",
    "#Compare the values predicted by the model to the actual/true values\n",
    "accuracy_score(y_pred_train, y_train) "
   ]
  },
  {
   "cell_type": "code",
   "execution_count": 17,
   "metadata": {},
   "outputs": [
    {
     "data": {
      "text/plain": [
       "Text(8.160000000000004, 0.5, 'predicted label')"
      ]
     },
     "execution_count": 17,
     "metadata": {},
     "output_type": "execute_result"
    },
    {
     "data": {
      "image/png": "[encoded data removed]",
      "text/plain": [
       "<Figure size 216x216 with 1 Axes>"
      ]
     },
     "metadata": {
      "needs_background": "light"
     },
     "output_type": "display_data"
    }
   ],
   "source": [
    "#Plot a confusion matrix to see what part the model was worst at. \n",
    "\n",
    "import seaborn as sns\n",
    "import matplotlib.pyplot as plt\n",
    "\n",
    "from sklearn.metrics import confusion_matrix\n",
    "\n",
    "plt.figure(figsize=(3,3))\n",
    "mat = confusion_matrix(y_train, y_pred_train) #These are the values that you need to change to graph another confusion matrix\n",
    "sns.heatmap(mat.T, square=True, annot=True, fmt='d', cbar=False,\n",
    "            xticklabels=np.unique(data_train['label']), yticklabels=np.unique(data_train['label']))\n",
    "plt.xlabel('true label')\n",
    "plt.ylabel('predicted label')"
   ]
  },
  {
   "cell_type": "markdown",
   "metadata": {},
   "source": [
    "So, the accuracy of the model on the training set is relatively high (89.6%). \n",
    "\n",
    "### Accuracy on Validation Dataset\n",
    "\n",
    "Now, let's check it's accuracy on the validation set. "
   ]
  },
  {
   "cell_type": "code",
   "execution_count": 18,
   "metadata": {},
   "outputs": [],
   "source": [
    "y_pred_val = model_svc.predict(X_val)        #Predict values using the validation dataset"
   ]
  },
  {
   "cell_type": "code",
   "execution_count": 19,
   "metadata": {},
   "outputs": [
    {
     "data": {
      "text/plain": [
       "0.8183026811433636"
      ]
     },
     "execution_count": 19,
     "metadata": {},
     "output_type": "execute_result"
    }
   ],
   "source": [
    "#Compare the values predicted by the model to the actual/true values\n",
    "accuracy_score(y_val, y_pred_val)"
   ]
  },
  {
   "cell_type": "code",
   "execution_count": 20,
   "metadata": {},
   "outputs": [
    {
     "data": {
      "text/plain": [
       "Text(8.160000000000004, 0.5, 'predicted label')"
      ]
     },
     "execution_count": 20,
     "metadata": {},
     "output_type": "execute_result"
    },
    {
     "data": {
      "image/png": "[encoded data removed]",
      "text/plain": [
       "<Figure size 216x216 with 1 Axes>"
      ]
     },
     "metadata": {
      "needs_background": "light"
     },
     "output_type": "display_data"
    }
   ],
   "source": [
    "#Plot a confusion matrix to see what part the model was worst at. \n",
    "\n",
    "import seaborn as sns\n",
    "import matplotlib.pyplot as plt\n",
    "\n",
    "from sklearn.metrics import confusion_matrix\n",
    "\n",
    "plt.figure(figsize=(3,3))\n",
    "mat = confusion_matrix(y_val, y_pred_val) #These are the values that you need to change to graph another confusion matrix\n",
    "sns.heatmap(mat.T, square=True, annot=True, fmt='d', cbar=False,\n",
    "            xticklabels=np.unique(data_train['label']), yticklabels=np.unique(data_train['label']))\n",
    "plt.xlabel('true label')\n",
    "plt.ylabel('predicted label')"
   ]
  },
  {
   "cell_type": "markdown",
   "metadata": {},
   "source": [
    "On the validation dataset, the accuracy was lower, but still an acceptable 81.8%. \n",
    "\n",
    "### Accuracy on Testing Dataset\n",
    "\n",
    "Now, let's see how our model does on the actual testing dataset. "
   ]
  },
  {
   "cell_type": "code",
   "execution_count": 21,
   "metadata": {},
   "outputs": [
    {
     "name": "stderr",
     "output_type": "stream",
     "text": [
      "C:\\Users\\cathe\\AppData\\Local\\Continuum\\anaconda3\\lib\\site-packages\\ipykernel_launcher.py:20: FutureWarning: Non RGB image conversion is now deprecated. For RGBA images, please use rgb2gray(rgba2rgb(rgb)) instead. In version 0.19, a ValueError will be raised if input image last dimension length is not 3.\n"
     ]
    },
    {
     "name": "stdout",
     "output_type": "stream",
     "text": [
      "(2513, 576)\n"
     ]
    }
   ],
   "source": [
    "#---------------------------------------------------------------------------------------------#\n",
    "# NOTE: We did not previously preprocess our testing dataset, so we are doing that now.       #\n",
    "#---------------------------------------------------------------------------------------------#\n",
    "\n",
    "#First, choose the Xs and Ys \n",
    "X_test = data_test['data']\n",
    "y_test = data_test['label']\n",
    "\n",
    "#We will use fit_transform and use every pre-processing technique one at a time. \n",
    "X_gray = grayify.fit_transform(X_test)\n",
    "X_hog = hogify.fit_transform(X_gray)\n",
    "X_prepared_test = scalify.fit_transform(X_hog)\n",
    " \n",
    "print(X_prepared_test.shape)"
   ]
  },
  {
   "cell_type": "code",
   "execution_count": 22,
   "metadata": {},
   "outputs": [],
   "source": [
    "y_pred_test = model_svc.predict(X_prepared_test)   #predict values using the testing dataset"
   ]
  },
  {
   "cell_type": "code",
   "execution_count": 23,
   "metadata": {},
   "outputs": [
    {
     "data": {
      "text/plain": [
       "0.8165539196179865"
      ]
     },
     "execution_count": 23,
     "metadata": {},
     "output_type": "execute_result"
    }
   ],
   "source": [
    "#Compare the values predicted by the model to the actual/true values\n",
    "accuracy_score(y_test, y_pred_test)"
   ]
  },
  {
   "cell_type": "code",
   "execution_count": 24,
   "metadata": {},
   "outputs": [
    {
     "data": {
      "text/plain": [
       "Text(8.160000000000004, 0.5, 'predicted label')"
      ]
     },
     "execution_count": 24,
     "metadata": {},
     "output_type": "execute_result"
    },
    {
     "data": {
      "image/png": "[encoded data removed]",
      "text/plain": [
       "<Figure size 216x216 with 1 Axes>"
      ]
     },
     "metadata": {
      "needs_background": "light"
     },
     "output_type": "display_data"
    }
   ],
   "source": [
    "#Plot a confusion matrix to see what part the model was worst at. \n",
    "\n",
    "import seaborn as sns\n",
    "import matplotlib.pyplot as plt\n",
    "\n",
    "from sklearn.metrics import confusion_matrix\n",
    "\n",
    "plt.figure(figsize=(3,3))\n",
    "mat = confusion_matrix(y_test, y_pred_test) #These are the values that you need to change to graph another confusion matrix\n",
    "sns.heatmap(mat.T, square=True, annot=True, fmt='d', cbar=False,\n",
    "            xticklabels=np.unique(data_train['label']), yticklabels=np.unique(data_train['label']))\n",
    "plt.xlabel('true label')\n",
    "plt.ylabel('predicted label')"
   ]
  },
  {
   "cell_type": "markdown",
   "metadata": {},
   "source": [
    "The accuracy on our testing dataset is actually still relatively reasonable at 81.6%"
   ]
  },
  {
   "cell_type": "markdown",
   "metadata": {},
   "source": [
    "# Adding Parameters to the SVM Model\n",
    "\n",
    "The model we created above used all the default values for the SVM/SVC model. However, when building AI models, researchers experiment with different parameters and use the combination of parameters that result in the best model. \n",
    "\n",
    "SVC models in sklearn have the following parameters that can be changed: \n",
    "* **C**: default = 1.0 <br /> \n",
    "  Regularization parameter. The strength of the regularization is inversely proportional to C.\n",
    "* **kernel**: default = 'rbf' <br /> \n",
    "  Specifies the kernel type to be used in the algorithm. It must be one of ‘linear’, ‘poly’, ‘rbf’, ‘sigmoid’, ‘precomputed’ or a callable. If none is given, ‘rbf’ will be used.\n",
    "* **degree**: defaul = 3 <br /> \n",
    "  Degree of the polynomial kernel function (‘poly’). Ignored by all other kernels.\n",
    "* **gamma**: default = 'scale' <br /> \n",
    "  Kernel coefficient for ‘rbf’, ‘poly’ and ‘sigmoid’. <br />\n",
    "  if gamma ='scale' (default) is passed then it uses 1 / (n_features * X.var()) as value of gamma, <br />\n",
    "  if ‘auto’, uses 1 / n_features.\n",
    "  \n",
    "The above are only some of the parameters that can be changed for SVCs. For a full list, check out the documentation link below: \n",
    "https://scikit-learn.org/stable/modules/generated/sklearn.svm.SVC.html "
   ]
  },
  {
   "cell_type": "markdown",
   "metadata": {},
   "source": [
    "In this section, we will see how we can change some of these parameters and we will experiment with different combinations to see which one is best. \n",
    "\n",
    "So, what we should do is train different models with different parameters on the training dataset with 22500 images. However, this is a very time consuming task. So, instead, just for demonstration purposes, we will use our testing dataset that has 2500 images to train different models. \n",
    "\n",
    "Nonetheless, when building your own models, try whenever possible to use the larger training dataset. "
   ]
  },
  {
   "cell_type": "code",
   "execution_count": 25,
   "metadata": {},
   "outputs": [
    {
     "name": "stdout",
     "output_type": "stream",
     "text": [
      "number of samples:  2513\n",
      "keys:  ['label', 'filename', 'data']\n",
      "image shape:  (80, 80, 3)\n",
      "labels: ['O' 'R']\n"
     ]
    },
    {
     "data": {
      "text/plain": [
       "Counter({'O': 1401, 'R': 1112})"
      ]
     },
     "execution_count": 25,
     "metadata": {},
     "output_type": "execute_result"
    }
   ],
   "source": [
    "#Making the testing dataset the training dataset\n",
    "data_train_small = joblib.load(f'{\"waste_images_test\"}_{width}x{width}px.pkl')\n",
    "\n",
    "#Printing some stats of the smaller training dataset\n",
    "print('number of samples: ', len(data_train_small['data']))\n",
    "print('keys: ', list(data_train_small.keys()))\n",
    "print('image shape: ', data_train_small['data'][0].shape)\n",
    "print('labels:', np.unique(data_train_small['label']))\n",
    " \n",
    "Counter(data_train_small['label'])"
   ]
  },
  {
   "cell_type": "code",
   "execution_count": 26,
   "metadata": {},
   "outputs": [
    {
     "name": "stdout",
     "output_type": "stream",
     "text": [
      "Number of Samples in X:  2513\n",
      "Number of Samples in Y:  2513\n"
     ]
    }
   ],
   "source": [
    "#Deciding the Xs and Ys \n",
    "X_small = data_train_small['data']\n",
    "print(\"Number of Samples in X: \", len(X_small))\n",
    "y_small = data_train_small['label']\n",
    "print(\"Number of Samples in Y: \", len(y_small))"
   ]
  },
  {
   "cell_type": "code",
   "execution_count": 27,
   "metadata": {},
   "outputs": [
    {
     "name": "stderr",
     "output_type": "stream",
     "text": [
      "C:\\Users\\cathe\\AppData\\Local\\Continuum\\anaconda3\\lib\\site-packages\\ipykernel_launcher.py:20: FutureWarning: Non RGB image conversion is now deprecated. For RGBA images, please use rgb2gray(rgba2rgb(rgb)) instead. In version 0.19, a ValueError will be raised if input image last dimension length is not 3.\n"
     ]
    },
    {
     "name": "stdout",
     "output_type": "stream",
     "text": [
      "(2513, 576)\n"
     ]
    }
   ],
   "source": [
    "#We will use fit_transform and use every pre-processing technique one at a time. \n",
    "X_gray_small = grayify.fit_transform(X_small)\n",
    "X_hog_small = hogify.fit_transform(X_gray_small)\n",
    "X_prepared_small = scalify.fit_transform(X_hog_small)\n",
    " \n",
    "print(X_prepared_small.shape)"
   ]
  },
  {
   "cell_type": "code",
   "execution_count": 28,
   "metadata": {},
   "outputs": [],
   "source": [
    "#Splitting the dataset into training and testing dataset\n",
    "X_train_small, X_val_small, y_train_small, y_val_small = train_test_split(\n",
    "    X_prepared_small, \n",
    "    y_small, \n",
    "    test_size=0.2, #The testing dataset is 20% of the training dataset\n",
    "    shuffle=True, #The dataset is shuffled so you do not get a training dataset that is mostly O or mostly R \n",
    "    random_state=42,\n",
    ")"
   ]
  },
  {
   "cell_type": "markdown",
   "metadata": {},
   "source": [
    "So, we've set up the new smaller training dataset. Now, we can create our model. <br />\n",
    "Note that you can change the values of C and kernel below to try different combinations and see what works best. "
   ]
  },
  {
   "cell_type": "code",
   "execution_count": 29,
   "metadata": {},
   "outputs": [
    {
     "name": "stdout",
     "output_type": "stream",
     "text": [
      "[LibSVM]"
     ]
    },
    {
     "data": {
      "text/plain": [
       "SVC(C=0.7, kernel='linear', verbose=True)"
      ]
     },
     "execution_count": 29,
     "metadata": {},
     "output_type": "execute_result"
    }
   ],
   "source": [
    "model_svc_para = SVC(C = 0.7, kernel = \"linear\", verbose = True)                #Create a model\n",
    "model_svc_para.fit(X_train_small, y_train_small)                                #Train the model"
   ]
  },
  {
   "cell_type": "markdown",
   "metadata": {},
   "source": [
    "### Accuracy on Training Dataset"
   ]
  },
  {
   "cell_type": "code",
   "execution_count": 30,
   "metadata": {},
   "outputs": [],
   "source": [
    "y_pred_train_small = model_svc.predict(X_train_small)                           #Predict values using the training dataset"
   ]
  },
  {
   "cell_type": "code",
   "execution_count": 31,
   "metadata": {},
   "outputs": [
    {
     "data": {
      "text/plain": [
       "0.8124378109452737"
      ]
     },
     "execution_count": 31,
     "metadata": {},
     "output_type": "execute_result"
    }
   ],
   "source": [
    "#Compare the values predicted by the model to the actual/true values\n",
    "accuracy_score(y_train_small, y_pred_train_small)"
   ]
  },
  {
   "cell_type": "markdown",
   "metadata": {},
   "source": [
    "### Accuracy on Testing Dataset"
   ]
  },
  {
   "cell_type": "code",
   "execution_count": 32,
   "metadata": {},
   "outputs": [],
   "source": [
    "y_pred_val_small = model_svc.predict(X_val_small)                               #Predict values using the testing dataset"
   ]
  },
  {
   "cell_type": "code",
   "execution_count": 33,
   "metadata": {},
   "outputs": [
    {
     "data": {
      "text/plain": [
       "0.8330019880715706"
      ]
     },
     "execution_count": 33,
     "metadata": {},
     "output_type": "execute_result"
    }
   ],
   "source": [
    "#Compare the values predicted by the model to the actual/true values\n",
    "accuracy_score(y_val_small, y_pred_val_small)"
   ]
  },
  {
   "cell_type": "markdown",
   "metadata": {},
   "source": [
    "**Note**: By trying different values for C and kernel, you will get different accuracies. Some accuracies will be higher, others will be lower. However, always remember that: <br /> <br />\n",
    "              **BETTER DATA in more important than BETTER ALGORITHMS**"
   ]
  },
  {
   "cell_type": "markdown",
   "metadata": {},
   "source": [
    "# Saving Your Model for Future Use\n",
    "\n",
    "So, we have tested different models, and now we have the best one. It is time to save it so we can use it any time we want without having to recreate it. "
   ]
  },
  {
   "cell_type": "code",
   "execution_count": 34,
   "metadata": {},
   "outputs": [
    {
     "data": {
      "text/plain": [
       "['final_model.sav']"
      ]
     },
     "execution_count": 34,
     "metadata": {},
     "output_type": "execute_result"
    }
   ],
   "source": [
    "filename = 'final_model.sav'\n",
    "joblib.dump(model_svc, filename)"
   ]
  },
  {
   "cell_type": "markdown",
   "metadata": {},
   "source": [
    "# Loading Your Model From Your Computer\n",
    "\n",
    "In this section, we will load the model that we saved in the previous section. "
   ]
  },
  {
   "cell_type": "code",
   "execution_count": 35,
   "metadata": {},
   "outputs": [],
   "source": [
    "filename = 'final_model.sav'\n",
    "loaded_model = joblib.load(filename)"
   ]
  },
  {
   "cell_type": "markdown",
   "metadata": {},
   "source": [
    "# Using Your Model to Predict New Images\n",
    "\n",
    "In this section, we will use the model we created to predict whether a new image is organic or recyclable. \n",
    "\n",
    "Remember, that we will be using an image directly from our computer. So, the image needs to be preprocessed just like the images of the training and testing datasets. "
   ]
  },
  {
   "cell_type": "code",
   "execution_count": 36,
   "metadata": {},
   "outputs": [],
   "source": [
    "#Create an empty list where the processed data will be saved \n",
    "test_image = []\n",
    "\n",
    "#Add the path of the image you want to test\n",
    "image_path = \"TEST\\\\O\\\\O_13553.jpg\"\n",
    "\n",
    "#Read the image and resize it\n",
    "im = imread(image_path)\n",
    "im = resize(im, (80, 80))\n",
    "\n",
    "#Save the image in the image list\n",
    "test_image.append(im)"
   ]
  },
  {
   "cell_type": "code",
   "execution_count": 37,
   "metadata": {},
   "outputs": [
    {
     "data": {
      "text/plain": [
       "Text(0.5, 1.0, 'Image to Predict')"
      ]
     },
     "execution_count": 37,
     "metadata": {},
     "output_type": "execute_result"
    },
    {
     "data": {
      "image/png": "[encoded data removed]",
      "text/plain": [
       "<Figure size 1080x288 with 1 Axes>"
      ]
     },
     "metadata": {
      "needs_background": "light"
     },
     "output_type": "display_data"
    }
   ],
   "source": [
    "#Set up the matplotlib figure and axes, based on the number of labels\n",
    "fig, axes = plt.subplots(1, 1)\n",
    "fig.set_size_inches(15,4)\n",
    "fig.tight_layout()\n",
    " \n",
    "#Show the image with an appropriate title    \n",
    "axes.imshow(im)\n",
    "axes.axis('off')\n",
    "axes.set_title(\"Image to Predict\")"
   ]
  },
  {
   "cell_type": "code",
   "execution_count": 38,
   "metadata": {},
   "outputs": [
    {
     "name": "stdout",
     "output_type": "stream",
     "text": [
      "(1, 576)\n"
     ]
    }
   ],
   "source": [
    "#Process the image\n",
    "im_gray = grayify.fit_transform(test_image)\n",
    "im_hog = hogify.fit_transform(im_gray)\n",
    "im_prepared = scalify.fit_transform(im_hog)\n",
    "\n",
    "#Check that the shape of the data makes sense \n",
    "print(im_prepared.shape)"
   ]
  },
  {
   "cell_type": "code",
   "execution_count": 39,
   "metadata": {},
   "outputs": [
    {
     "name": "stdout",
     "output_type": "stream",
     "text": [
      "['O']\n"
     ]
    }
   ],
   "source": [
    "#Use the model to predict the label of the image \n",
    "image_pred = loaded_model.predict(im_prepared) \n",
    "print(image_pred)"
   ]
  },
  {
   "cell_type": "markdown",
   "metadata": {},
   "source": [
    "------------------------------------------------------------------------------------------------------------------------------"
   ]
  },
  {
   "cell_type": "markdown",
   "metadata": {},
   "source": [
    "# EXTRAS"
   ]
  },
  {
   "cell_type": "markdown",
   "metadata": {},
   "source": [
    "## Building the Simplest Random Forest Classifier Model Possible \n",
    "\n",
    "In this section we build a second model with a different algorithm. The model we will build is an extremely simple Random Forest Classifier model. We will be using the default parameters and changing nothing. "
   ]
  },
  {
   "cell_type": "code",
   "execution_count": 40,
   "metadata": {},
   "outputs": [
    {
     "data": {
      "text/plain": [
       "RandomForestClassifier()"
      ]
     },
     "execution_count": 40,
     "metadata": {},
     "output_type": "execute_result"
    }
   ],
   "source": [
    "from sklearn.ensemble import RandomForestClassifier\n",
    "\n",
    "model_forest = RandomForestClassifier(n_estimators=100)\n",
    "model_forest.fit(X_train, y_train) "
   ]
  },
  {
   "cell_type": "markdown",
   "metadata": {},
   "source": [
    "### Accuracy on Validation Dataset"
   ]
  },
  {
   "cell_type": "code",
   "execution_count": 41,
   "metadata": {},
   "outputs": [
    {
     "data": {
      "text/plain": [
       "0.7764236649678706"
      ]
     },
     "execution_count": 41,
     "metadata": {},
     "output_type": "execute_result"
    }
   ],
   "source": [
    "y_pred_val = model_forest.predict(X_val)\n",
    "\n",
    "#Compare the values predicted by the model to the actual/true values\n",
    "accuracy_score(y_val, y_pred_val)"
   ]
  },
  {
   "cell_type": "code",
   "execution_count": 42,
   "metadata": {},
   "outputs": [
    {
     "data": {
      "text/plain": [
       "Text(8.160000000000004, 0.5, 'predicted label')"
      ]
     },
     "execution_count": 42,
     "metadata": {},
     "output_type": "execute_result"
    },
    {
     "data": {
      "image/png": "[encoded data removed]",
      "text/plain": [
       "<Figure size 216x216 with 1 Axes>"
      ]
     },
     "metadata": {
      "needs_background": "light"
     },
     "output_type": "display_data"
    }
   ],
   "source": [
    "#Plot a confusion matrix to see what part the model was worst at. \n",
    "\n",
    "import seaborn as sns\n",
    "import matplotlib.pyplot as plt\n",
    "\n",
    "from sklearn.metrics import confusion_matrix\n",
    "\n",
    "plt.figure(figsize=(3,3))\n",
    "mat = confusion_matrix(y_val, y_pred_val) #These are the values that you need to change to graph another confusion matrix\n",
    "sns.heatmap(mat.T, square=True, annot=True, fmt='d', cbar=False,\n",
    "            xticklabels=np.unique(data_train['label']), yticklabels=np.unique(data_train['label']))\n",
    "plt.xlabel('true label')\n",
    "plt.ylabel('predicted label')"
   ]
  },
  {
   "cell_type": "markdown",
   "metadata": {},
   "source": [
    "### Accuracy on Testing Dataset\n",
    "\n",
    "Now, let's see how our model does on the actual testing dataset."
   ]
  },
  {
   "cell_type": "code",
   "execution_count": 43,
   "metadata": {},
   "outputs": [],
   "source": [
    "y_pred_test = model_forest.predict(X_prepared_test)"
   ]
  },
  {
   "cell_type": "code",
   "execution_count": 44,
   "metadata": {},
   "outputs": [
    {
     "data": {
      "text/plain": [
       "0.807799442896936"
      ]
     },
     "execution_count": 44,
     "metadata": {},
     "output_type": "execute_result"
    }
   ],
   "source": [
    "#Compare the values predicted by the model to the actual/true values\n",
    "accuracy_score(y_test, y_pred_test)"
   ]
  },
  {
   "cell_type": "code",
   "execution_count": 45,
   "metadata": {},
   "outputs": [
    {
     "data": {
      "text/plain": [
       "Text(8.160000000000004, 0.5, 'predicted label')"
      ]
     },
     "execution_count": 45,
     "metadata": {},
     "output_type": "execute_result"
    },
    {
     "data": {
      "image/png": "[encoded data removed]",
      "text/plain": [
       "<Figure size 216x216 with 1 Axes>"
      ]
     },
     "metadata": {
      "needs_background": "light"
     },
     "output_type": "display_data"
    }
   ],
   "source": [
    "#Plot a confusion matrix to see what part the model was worst at. \n",
    "\n",
    "import seaborn as sns\n",
    "import matplotlib.pyplot as plt\n",
    "\n",
    "from sklearn.metrics import confusion_matrix\n",
    "\n",
    "plt.figure(figsize=(3,3))\n",
    "mat = confusion_matrix(y_test, y_pred_test) #These are the values that you need to change to graph another confusion matrix\n",
    "sns.heatmap(mat.T, square=True, annot=True, fmt='d', cbar=False,\n",
    "            xticklabels=np.unique(data_train['label']), yticklabels=np.unique(data_train['label']))\n",
    "plt.xlabel('true label')\n",
    "plt.ylabel('predicted label')"
   ]
  },
  {
   "cell_type": "code",
   "execution_count": null,
   "metadata": {},
   "outputs": [],
   "source": []
  }
 ],
 "metadata": {
  "kernelspec": {
   "display_name": "Python 3",
   "language": "python",
   "name": "python3"
  },
  "language_info": {
   "codemirror_mode": {
    "name": "ipython",
    "version": 3
   },
   "file_extension": ".py",
   "mimetype": "text/x-python",
   "name": "python",
   "nbconvert_exporter": "python",
   "pygments_lexer": "ipython3",
   "version": "3.7.9"
  }
 },
 "nbformat": 4,
 "nbformat_minor": 4
}
